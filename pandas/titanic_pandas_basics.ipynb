{
  "nbformat": 4,
  "nbformat_minor": 0,
  "metadata": {
    "colab": {
      "provenance": []
    },
    "kernelspec": {
      "name": "python3",
      "display_name": "Python 3"
    },
    "language_info": {
      "name": "python"
    }
  },
  "cells": [
    {
      "cell_type": "markdown",
      "metadata": {},
      "source": [
        "# Titanic Dataset Analysis - Pandas Basics\n",
        "\n",
        "This notebook focuses on basic pandas operations using the Titanic dataset. It's designed for beginners learning data science."
      ]
    },
    {
      "cell_type": "code",
      "execution_count": null,
      "metadata": {
        "id": "saRJrtC_vdPQ"
      },
      "outputs": [],
      "source": [
        "# Import the necessary libraries\n",
        "import pandas as pd\n",
        "import matplotlib.pyplot as plt"
      ]
    },
    {
      "cell_type": "markdown",
      "metadata": {},
      "source": [
        "## 1. Loading Data\n",
        "\n",
        "The first step in any data analysis is loading the data. We'll use pandas' `read_csv()` function to load the Titanic dataset."
      ]
    },
    {
      "cell_type": "code",
      "source": [
        "# Load the Titanic dataset\n",
        "df = pd.read_csv(\"Titanic-Dataset.csv\")\n",
        "\n",
        "# 'df' is a common variable name for a pandas DataFrame"
      ],
      "metadata": {
        "id": "c13R3hqiwEJ4"
      },
      "execution_count": null,
      "outputs": []
    },
    {
      "cell_type": "markdown",
      "metadata": {},
      "source": [
        "## 2. Basic DataFrame Exploration\n",
        "\n",
        "Let's explore the dataset using basic pandas functions."
      ]
    },
    {
      "cell_type": "code",
      "source": [
        "# View the first 10 rows of the DataFrame\n",
        "df.head(10)\n",
        "\n",
        "# head() shows the first n rows (default is 5)"
      ],
      "metadata": {
        "id": "CiP1Onc0waR3"
      },
      "execution_count": null,
      "outputs": []
    },
    {
      "cell_type": "code",
      "source": [
        "# View the last 5 rows of the DataFrame\n",
        "df.tail()\n",
        "\n",
        "# tail() shows the last n rows (default is 5)"
      ],
      "metadata": {},
      "execution_count": null,
      "outputs": []
    },
    {
      "cell_type": "code",
      "source": [
        "# Get information about the DataFrame\n",
        "df.info()\n",
        "\n",
        "# info() provides a summary of the DataFrame including:\n",
        "# - Number of rows and columns\n",
        "# - Column names and data types\n",
        "# - Number of non-null values in each column\n",
        "# - Memory usage"
      ],
      "metadata": {
        "id": "Pb8_WYQSwbP6"
      },
      "execution_count": null,
      "outputs": []
    },
    {
      "cell_type": "code",
      "source": [
        "# Get statistical summary of the DataFrame\n",
        "df.describe()\n",
        "\n",
        "# describe() provides statistical information for numeric columns:\n",
        "# - count: number of non-null values\n",
        "# - mean: average value\n",
        "# - std: standard deviation\n",
        "# - min: minimum value\n",
        "# - 25%, 50% (median), 75%: percentiles\n",
        "# - max: maximum value"
      ],
      "metadata": {
        "id": "NxYrr49NwdVm"
      },
      "execution_count": null,
      "outputs": []
    },
    {
      "cell_type": "markdown",
      "metadata": {},
      "source": [
        "## 3. Accessing Data in a DataFrame\n",
        "\n",
        "There are multiple ways to access data in a pandas DataFrame."
      ]
    },
    {
      "cell_type": "code",
      "source": [
        "# Get column names\n",
        "print(df.columns)"
      ],
      "metadata": {},
      "execution_count": null,
      "outputs": []
    },
    {
      "cell_type": "code",
      "source": [
        "# Access a single column (returns a Series)\n",
        "df['Age'].head()\n",
        "\n",
        "# A Series is a one-dimensional array with labels"
      ],
      "metadata": {},
      "execution_count": null,
      "outputs": []
    },
    {
      "cell_type": "code",
      "source": [
        "# Access multiple columns (returns a DataFrame)\n",
        "df[['Name', 'Age', 'Sex']].head()"
      ],
      "metadata": {},
      "execution_count": null,
      "outputs": []
    },
    {
      "cell_type": "code",
      "source": [
        "# Access a specific row by index\n",
        "df.iloc[0]  # First row\n",
        "\n",
        "# iloc[] is used for integer-location based indexing"
      ],
      "metadata": {},
      "execution_count": null,
      "outputs": []
    },
    {
      "cell_type": "code",
      "source": [
        "# Access multiple rows\n",
        "df.iloc[0:5]  # First 5 rows"
      ],
      "metadata": {},
      "execution_count": null,
      "outputs": []
    },
    {
      "cell_type": "code",
      "source": [
        "# Access specific cells (row, column)\n",
        "df.iloc[0, 3]  # First row, fourth column (Name)\n",
        "\n",
        "# This returns the name of the first passenger"
      ],
      "metadata": {},
      "execution_count": null,
      "outputs": []
    },
    {
      "cell_type": "markdown",
      "metadata": {},
      "source": [
        "## 4. Basic Data Analysis\n",
        "\n",
        "Let's perform some basic analysis on the Titanic dataset."
      ]
    },
    {
      "cell_type": "code",
      "source": [
        "# Count the number of survivors and non-survivors\n",
        "df['Survived'].value_counts()\n",
        "\n",
        "# value_counts() returns the count of each unique value in a Series\n",
        "# 0 = Did not survive, 1 = Survived"
      ],
      "metadata": {},
      "execution_count": null,
      "outputs": []
    },
    {
      "cell_type": "code",
      "source": [
        "# Calculate the survival rate\n",
        "survival_rate = df['Survived'].mean() * 100\n",
        "print(f'Survival rate: {survival_rate:.2f}%')\n",
        "\n",
        "# Since Survived is 0 or 1, the mean gives us the proportion of 1s (survivors)"
      ],
      "metadata": {},
      "execution_count": null,
      "outputs": []
    },
    {
      "cell_type": "code",
      "source": [
        "# Count the number of passengers by gender\n",
        "df['Sex'].value_counts()"
      ],
      "metadata": {},
      "execution_count": null,
      "outputs": []
    },
    {
      "cell_type": "code",
      "source": [
        "# Count the number of passengers by class\n",
        "df['Pclass'].value_counts()\n",
        "\n",
        "# Pclass: 1 = 1st class, 2 = 2nd class, 3 = 3rd class"
      ],
      "metadata": {},
      "execution_count": null,
      "outputs": []
    },
    {
      "cell_type": "markdown",
      "metadata": {},
      "source": [
        "## 5. Filtering Data\n",
        "\n",
        "Filtering allows us to select rows that meet specific conditions."
      ]
    },
    {
      "cell_type": "code",
      "source": [
        "# Filter: passengers who survived\n",
        "survivors = df[df['Survived'] == 1]\n",
        "\n",
        "# Show the first few survivors\n",
        "survivors.head()"
      ],
      "metadata": {},
      "execution_count": null,
      "outputs": []
    },
    {
      "cell_type": "code",
      "source": [
        "# Filter: female passengers\n",
        "females = df[df['Sex'] == 'female']\n",
        "\n",
        "# Count the number of female passengers\n",
        "print(f'Number of female passengers: {len(females)}')"
      ],
      "metadata": {},
      "execution_count": null,
      "outputs": []
    },
    {
      "cell_type": "code",
      "source": [
        "# Multiple conditions: female survivors\n",
        "female_survivors = df[(df['Sex'] == 'female') & (df['Survived'] == 1)]\n",
        "\n",
        "# Count the number of female survivors\n",
        "print(f'Number of female survivors: {len(female_survivors)}')\n",
        "\n",
        "# Note: use & for AND, | for OR, ~ for NOT"
      ],
      "metadata": {},
      "execution_count": null,
      "outputs": []
    },
    {
      "cell_type": "code",
      "source": [
        "# Calculate survival rate by gender\n",
        "male_survival_rate = df[df['Sex'] == 'male']['Survived'].mean() * 100\n",
        "female_survival_rate = df[df['Sex'] == 'female']['Survived'].mean() * 100\n",
        "\n",
        "print(f'Male survival rate: {male_survival_rate:.2f}%')\n",
        "print(f'Female survival rate: {female_survival_rate:.2f}%')"
      ],
      "metadata": {},
      "execution_count": null,
      "outputs": []
    },
    {
      "cell_type": "markdown",
      "metadata": {},
      "source": [
        "## 6. Handling Missing Values\n",
        "\n",
        "Missing values are common in real-world datasets. Let's see how to handle them."
      ]
    },
    {
      "cell_type": "code",
      "source": [
        "# Check for missing values\n",
        "df.isnull().sum()\n",
        "\n",
        "# This shows the number of missing values in each column"
      ],
      "metadata": {},
      "execution_count": null,
      "outputs": []
    },
    {
      "cell_type": "code",
      "source": [
        "# Create a copy of the DataFrame for demonstration\n",
        "df_clean = df.copy()\n",
        "\n",
        "# Fill missing Age values with the median age\n",
        "median_age = df['Age'].median()\n",
        "df_clean['Age'].fillna(median_age, inplace=True)\n",
        "\n",
        "# Fill missing Embarked values with the most common value\n",
        "most_common_embarked = df['Embarked'].mode()[0]  # mode() returns a Series\n",
        "df_clean['Embarked'].fillna(most_common_embarked, inplace=True)\n",
        "\n",
        "# Check if missing values are handled\n",
        "df_clean[['Age', 'Embarked']].isnull().sum()"
      ],
      "metadata": {},
      "execution_count": null,
      "outputs": []
    },
    {
      "cell_type": "markdown",
      "metadata": {},
      "source": [
        "## 7. Grouping and Aggregation\n",
        "\n",
        "Grouping allows us to split data into groups and apply functions to each group."
      ]
    },
    {
      "cell_type": "code",
      "source": [
        "# Group by passenger class and calculate survival rate\n",
        "class_survival = df.groupby('Pclass')['Survived'].mean() * 100\n",
        "print(class_survival)\n",
        "\n",
        "# This shows the survival rate for each passenger class"
      ],
      "metadata": {},
      "execution_count": null,
      "outputs": []
    },
    {
      "cell_type": "code",
      "source": [
        "# Group by multiple columns: class and gender\n",
        "class_gender_survival = df.groupby(['Pclass', 'Sex'])['Survived'].mean() * 100\n",
        "print(class_gender_survival)\n",
        "\n",
        "# This shows the survival rate for each combination of class and gender"
      ],
      "metadata": {},
      "execution_count": null,
      "outputs": []
    },
    {
      "cell_type": "code",
      "source": [
        "# Multiple aggregations\n",
        "age_stats = df.groupby('Pclass')['Age'].agg(['count', 'mean', 'min', 'max'])\n",
        "print(age_stats)\n",
        "\n",
        "# This shows various statistics about age for each passenger class"
      ],
      "metadata": {},
      "execution_count": null,
      "outputs": []
    },
    {
      "cell_type": "markdown",
      "metadata": {},
      "source": [
        "## 8. Basic Data Visualization\n",
        "\n",
        "Pandas integrates with matplotlib to provide basic plotting capabilities."
      ]
    },
    {
      "cell_type": "code",
      "source": [
        "# Bar chart: survival count by passenger class\n",
        "survival_by_class = df.groupby('Pclass')['Survived'].sum()\n",
        "survival_by_class.plot(kind='bar', title='Number of Survivors by Class')\n",
        "plt.xlabel('Passenger Class')\n",
        "plt.ylabel('Number of Survivors')\n",
        "plt.show()"
      ],
      "metadata": {},
      "execution_count": null,
      "outputs": []
    },
    {
      "cell_type": "code",
      "source": [
        "# Pie chart: proportion of passengers by class\n",
        "df['Pclass'].value_counts().plot(kind='pie', autopct='%1.1f%%', title='Passenger Class Distribution')\n",
        "plt.ylabel('')  # Hide the ylabel\n",
        "plt.show()"
      ],
      "metadata": {},
      "execution_count": null,
      "outputs": []
    },
    {
      "cell_type": "code",
      "source": [
        "# Histogram: age distribution\n",
        "df['Age'].plot(kind='hist', bins=20, title='Age Distribution')\n",
        "plt.xlabel('Age')\n",
        "plt.ylabel('Count')\n",
        "plt.show()"
      ],
      "metadata": {},
      "execution_count": null,
      "outputs": []
    },
    {
      "cell_type": "markdown",
      "metadata": {},
      "source": [
        "## 9. Creating New Columns\n",
        "\n",
        "We can create new columns based on existing data."
      ]
    },
    {
      "cell_type": "code",
      "source": [
        "# Create a new DataFrame for demonstration\n",
        "df_new = df.copy()\n",
        "\n",
        "# Create a column for family size (siblings/spouses + parents/children + 1)\n",
        "df_new['FamilySize'] = df_new['SibSp'] + df_new['Parch'] + 1\n",
        "\n",
        "# Create a column for fare per person\n",
        "df_new['FarePerPerson'] = df_new['Fare'] / df_new['FamilySize']\n",
        "\n",
        "# Display the new columns\n",
        "df_new[['Name', 'SibSp', 'Parch', 'FamilySize', 'Fare', 'FarePerPerson']].head()"
      ],
      "metadata": {},
      "execution_count": null,
      "outputs": []
    },
    {
      "cell_type": "markdown",
      "metadata": {},
      "source": [
        "## 10. Saving Data\n",
        "\n",
        "After processing data, we might want to save it for future use."
      ]
    },
    {
      "cell_type": "code",
      "source": [
        "# Save to CSV\n",
        "# df_new.to_csv('titanic_processed.csv', index=False)\n",
        "\n",
        "# Save to Excel\n",
        "# df_new.to_excel('titanic_processed.xlsx', index=False)\n",
        "\n",
        "# Note: These lines are commented out to prevent creating files\n",
        "# Uncomment them if you want to save the files"
      ],
      "metadata": {},
      "execution_count": null,
      "outputs": []
    },
    {
      "cell_type": "markdown",
      "metadata": {},
      "source": [
        "## Summary\n",
        "\n",
        "In this notebook, we've covered the basics of pandas using the Titanic dataset:\n",
        "\n",
        "1. Loading data with `read_csv()`\n",
        "2. Exploring data with `head()`, `info()`, and `describe()`\n",
        "3. Accessing data using column names, `iloc[]`, and boolean indexing\n",
        "4. Basic analysis with `value_counts()` and aggregation functions\n",
        "5. Filtering data with boolean conditions\n",
        "6. Handling missing values with `fillna()`\n",
        "7. Grouping and aggregation with `groupby()`\n",
        "8. Basic visualization with pandas plotting functions\n",
        "9. Creating new columns based on existing data\n",
        "10. Saving data to files\n",
        "\n",
        "These are the fundamental pandas operations that form the basis of data analysis in Python."
      ]
    }
  ]
}